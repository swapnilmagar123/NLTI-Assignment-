{
 "cells": [
  {
   "cell_type": "code",
   "execution_count": 1,
   "id": "19a08ef6",
   "metadata": {},
   "outputs": [],
   "source": [
    "import pandas as pd\n",
    "from sklearn.preprocessing import MultiLabelBinarizer\n",
    "from sklearn.metrics.pairwise import cosine_similarity"
   ]
  },
  {
   "cell_type": "markdown",
   "id": "b495bbde",
   "metadata": {},
   "source": [
    "# Expanded Mentor Data"
   ]
  },
  {
   "cell_type": "code",
   "execution_count": 3,
   "id": "b34270ba",
   "metadata": {},
   "outputs": [],
   "source": [
    "mentors = pd.DataFrame([\n",
    "    {\n",
    "        'name': 'Mentor A',\n",
    "        'preferred_subjects': ['Legal Reasoning', 'Logical Reasoning'],\n",
    "        'target_colleges': ['NLSIU', 'NLU Delhi'],\n",
    "        'prep_level': 'Advanced',\n",
    "        'learning_style': 'Visual'\n",
    "    },\n",
    "    {\n",
    "        'name': 'Mentor B',\n",
    "        'preferred_subjects': ['English', 'GK'],\n",
    "        'target_colleges': ['NLU Jodhpur'],\n",
    "        'prep_level': 'Intermediate',\n",
    "        'learning_style': 'Auditory'\n",
    "    },\n",
    "    {\n",
    "        'name': 'Mentor C',\n",
    "        'preferred_subjects': ['Legal Reasoning', 'English'],\n",
    "        'target_colleges': ['NLU Bhopal'],\n",
    "        'prep_level': 'Beginner',\n",
    "        'learning_style': 'Reading/Writing'\n",
    "    },\n",
    "    {\n",
    "        'name': 'Mentor D',\n",
    "        'preferred_subjects': ['Logical Reasoning', 'GK'],\n",
    "        'target_colleges': ['NLU Kolkata'],\n",
    "        'prep_level': 'Advanced',\n",
    "        'learning_style': 'Kinesthetic'\n",
    "    },\n",
    "    {\n",
    "        'name': 'Mentor E',\n",
    "        'preferred_subjects': ['Legal Reasoning', 'GK'],\n",
    "        'target_colleges': ['NLU Odisha', 'NLU Delhi'],\n",
    "        'prep_level': 'Intermediate',\n",
    "        'learning_style': 'Visual'\n",
    "    },\n",
    "    {\n",
    "        'name': 'Mentor F',\n",
    "        'preferred_subjects': ['English', 'Logical Reasoning'],\n",
    "        'target_colleges': ['NALSAR', 'NLU Ranchi'],\n",
    "        'prep_level': 'Beginner',\n",
    "        'learning_style': 'Auditory'\n",
    "    },\n",
    "    {\n",
    "        'name': 'Mentor G',\n",
    "        'preferred_subjects': ['GK', 'English'],\n",
    "        'target_colleges': ['NLU Patna', 'NLU Kochi'],\n",
    "        'prep_level': 'Advanced',\n",
    "        'learning_style': 'Reading/Writing'\n",
    "    },\n",
    "    {\n",
    "        'name': 'Mentor H',\n",
    "        'preferred_subjects': ['Legal Reasoning', 'Logical Reasoning', 'GK'],\n",
    "        'target_colleges': ['NLU Delhi', 'NLU Jodhpur'],\n",
    "        'prep_level': 'Advanced',\n",
    "        'learning_style': 'Kinesthetic'\n",
    "    },\n",
    "    {\n",
    "        'name': 'Mentor I',\n",
    "        'preferred_subjects': ['Logical Reasoning', 'GK', 'English'],\n",
    "        'target_colleges': ['NLU Bhopal'],\n",
    "        'prep_level': 'Intermediate',\n",
    "        'learning_style': 'Visual'\n",
    "    },\n",
    "    {\n",
    "        'name': 'Mentor J',\n",
    "        'preferred_subjects': ['Legal Reasoning', 'English'],\n",
    "        'target_colleges': ['NLU Mumbai', 'NLSIU'],\n",
    "        'prep_level': 'Beginner',\n",
    "        'learning_style': 'Reading/Writing'\n",
    "    }\n",
    "])\n"
   ]
  },
  {
   "cell_type": "markdown",
   "id": "801bb554",
   "metadata": {},
   "source": [
    "## Mock Aspirant"
   ]
  },
  {
   "cell_type": "code",
   "execution_count": 4,
   "id": "9e84f766",
   "metadata": {},
   "outputs": [],
   "source": [
    "aspirant = {\n",
    "    'preferred_subjects': ['Legal Reasoning', 'English'],\n",
    "    'target_colleges': ['NLU Bhopal'],\n",
    "    'prep_level': 'Beginner',\n",
    "    'learning_style': 'Reading/Writing'\n",
    "}"
   ]
  },
  {
   "cell_type": "markdown",
   "id": "1b4ac69e",
   "metadata": {},
   "source": [
    "## Preprocessing Function"
   ]
  },
  {
   "cell_type": "code",
   "execution_count": 6,
   "id": "aa535b1e",
   "metadata": {},
   "outputs": [],
   "source": [
    "def preprocess_profiles(profiles, aspirant):\n",
    "    df = profiles.copy()\n",
    "    df['is_aspirant'] = 0\n",
    "\n",
    "    aspirant_df = pd.DataFrame([aspirant])\n",
    "    aspirant_df['name'] = 'Aspirant'\n",
    "    aspirant_df['is_aspirant'] = 1\n",
    "\n",
    "    combined = pd.concat([df, aspirant_df], ignore_index=True)\n",
    "\n",
    "    # One-hot encode multi-label fields\n",
    "    mlb_subjects = MultiLabelBinarizer()\n",
    "    mlb_colleges = MultiLabelBinarizer()\n",
    "\n",
    "    subjects_encoded = mlb_subjects.fit_transform(combined['preferred_subjects'])\n",
    "    colleges_encoded = mlb_colleges.fit_transform(combined['target_colleges'])\n",
    "\n",
    "    subjects_df = pd.DataFrame(subjects_encoded, columns=mlb_subjects.classes_)\n",
    "    colleges_df = pd.DataFrame(colleges_encoded, columns=mlb_colleges.classes_)\n",
    "\n",
    "    # Encode categorical fields manually\n",
    "    prep_levels = pd.get_dummies(combined['prep_level'], prefix='prep')\n",
    "    learning_styles = pd.get_dummies(combined['learning_style'], prefix='style')\n",
    "\n",
    "    features = pd.concat([subjects_df, colleges_df, prep_levels, learning_styles], axis=1)\n",
    "\n",
    "    return combined, features\n"
   ]
  },
  {
   "cell_type": "markdown",
   "id": "68806179",
   "metadata": {},
   "source": [
    "# Recommendation Function"
   ]
  },
  {
   "cell_type": "code",
   "execution_count": 7,
   "id": "4236fc18",
   "metadata": {},
   "outputs": [],
   "source": [
    "def recommend_mentors(mentors_df, aspirant_profile):\n",
    "    combined, features = preprocess_profiles(mentors_df, aspirant_profile)\n",
    "\n",
    "    # Separate aspirant and mentor feature vectors\n",
    "    aspirant_vector = features.iloc[-1].values.reshape(1, -1)\n",
    "    mentor_vectors = features.iloc[:-1]\n",
    "\n",
    "    # Calculate cosine similarity\n",
    "    similarities = cosine_similarity(aspirant_vector, mentor_vectors)[0]\n",
    "\n",
    "    # Add similarity scores to mentors_df\n",
    "    mentors_df = mentors_df.copy()\n",
    "    mentors_df['similarity'] = similarities\n",
    "\n",
    "    # Recommend top 3 mentors\n",
    "    top_3 = mentors_df.sort_values(by='similarity', ascending=False).head(3)\n",
    "    return top_3[['name', 'similarity']]\n"
   ]
  },
  {
   "cell_type": "code",
   "execution_count": 8,
   "id": "70e1c9fa",
   "metadata": {},
   "outputs": [
    {
     "name": "stdout",
     "output_type": "stream",
     "text": [
      "Top 3 Mentor Recommendations:\n",
      "\n",
      "       name  similarity\n",
      "2  Mentor C    1.000000\n",
      "9  Mentor J    0.730297\n",
      "5  Mentor F    0.365148\n"
     ]
    }
   ],
   "source": [
    "recommendations = recommend_mentors(mentors, aspirant)\n",
    "print(\"Top 3 Mentor Recommendations:\\n\")\n",
    "print(recommendations)"
   ]
  },
  {
   "cell_type": "markdown",
   "id": "8094ca5f",
   "metadata": {},
   "source": [
    "Over time, the system can be improved using:\n",
    "\n",
    "User feedback loop: Let aspirants rate their mentor matches (e.g., 1–5 stars), and use collaborative filtering to refine future recommendations.\n",
    "\n",
    "Tracking interactions: Monitor chats or sessions and apply reinforcement learning to boost mentors with good outcomes.\n",
    "\n",
    "Weighted similarity: Learn feature weights (e.g., subject match is more important than prep level) from user feedback."
   ]
  },
  {
   "cell_type": "code",
   "execution_count": null,
   "id": "b43cb155",
   "metadata": {},
   "outputs": [],
   "source": []
  }
 ],
 "metadata": {
  "kernelspec": {
   "display_name": "Python 3",
   "language": "python",
   "name": "python3"
  },
  "language_info": {
   "codemirror_mode": {
    "name": "ipython",
    "version": 3
   },
   "file_extension": ".py",
   "mimetype": "text/x-python",
   "name": "python",
   "nbconvert_exporter": "python",
   "pygments_lexer": "ipython3",
   "version": "3.11.2"
  }
 },
 "nbformat": 4,
 "nbformat_minor": 5
}
